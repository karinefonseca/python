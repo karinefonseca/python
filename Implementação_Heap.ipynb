{
  "nbformat": 4,
  "nbformat_minor": 0,
  "metadata": {
    "colab": {
      "provenance": [],
      "authorship_tag": "ABX9TyPlAGYxNVjt+San86S95kAA",
      "include_colab_link": true
    },
    "kernelspec": {
      "name": "python3",
      "display_name": "Python 3"
    },
    "language_info": {
      "name": "python"
    }
  },
  "cells": [
    {
      "cell_type": "markdown",
      "metadata": {
        "id": "view-in-github",
        "colab_type": "text"
      },
      "source": [
        "<a href=\"https://colab.research.google.com/github/karinefonseca/python/blob/main/Implementa%C3%A7%C3%A3o_Heap.ipynb\" target=\"_parent\"><img src=\"https://colab.research.google.com/assets/colab-badge.svg\" alt=\"Open In Colab\"/></a>"
      ]
    },
    {
      "cell_type": "markdown",
      "source": [
        "Exemplo de programa em Python que utiliza o heap máximo para implementar uma fila de prioridade para envios de pacotes (onde os pacotes com maior prioridade são transmitidos primeiro):"
      ],
      "metadata": {
        "id": "okHYLlUndlmb"
      }
    },
    {
      "cell_type": "markdown",
      "source": [
        "A classe FilaPrioridade implementa uma fila de prioridade, onde os pacotes com maior prioridade (maior valor numérico de prioridade) são transmitidos primeiro. \n",
        "\n",
        "O método add_item adiciona um novo item à fila, juntamente com sua prioridade, enquanto o método get_item retorna o próximo item na fila de prioridade.\n",
        "\n",
        "A fila de prioridade é implementada usando a função heapq.heappush do módulo heapq, que adiciona um item à fila de acordo com sua prioridade. \n",
        "\n",
        "O item é armazenado contendo a prioridade (nesse caso negativa para usar o heap máximo), um contador (para lidar com casos em que dois itens têm a mesma prioridade) e o próprio item. \n",
        "\n",
        "O método heapq.heappop é usado para obter o próximo item da fila de prioridade, que é retornado como resultado do método get_item."
      ],
      "metadata": {
        "id": "wOj3H39EdqK6"
      }
    },
    {
      "cell_type": "code",
      "execution_count": 1,
      "metadata": {
        "id": "_m0Npc21csU5"
      },
      "outputs": [],
      "source": [
        "import heapq\n",
        "\n",
        "class FilaPrioridade:\n",
        "    def __init__(self):\n",
        "        self.fila = []\n",
        "        self.contador = 0\n",
        "    \n",
        "    def add_item(self, item, prioridade):\n",
        "        heapq.heappush(self.fila, (-prioridade, self.contador, item))\n",
        "        self.contador += 1\n",
        "    \n",
        "    def get_item(self):\n",
        "        return heapq.heappop(self.fila)[-1]"
      ]
    },
    {
      "cell_type": "markdown",
      "source": [
        "Nesse exemplo, a fila de prioridade é criada e três pacotes são adicionados à fila com prioridades diferentes. Em seguida, o método get_item é chamado três vezes para obter os próximos pacotes na fila de prioridade, que são transmitidos em ordem de prioridade decrescente."
      ],
      "metadata": {
        "id": "VZhr-9atd-GG"
      }
    },
    {
      "cell_type": "code",
      "source": [
        "fila = FilaPrioridade()\n",
        "fila.add_item(\"pacote 1\", 3)\n",
        "fila.add_item(\"pacote 2\", 1)\n",
        "fila.add_item(\"pacote 3\", 5)\n",
        "\n",
        "print(fila.get_item())  # saída: \"pacote 3\"\n",
        "print(fila.get_item())  # saída: \"pacote 1\"\n",
        "print(fila.get_item())  # saída: \"pacote 2\""
      ],
      "metadata": {
        "colab": {
          "base_uri": "https://localhost:8080/"
        },
        "id": "vEKQkIOHdKo5",
        "outputId": "57dd34ed-5e9d-45b4-bfee-c53ee7fa8ffd"
      },
      "execution_count": 4,
      "outputs": [
        {
          "output_type": "stream",
          "name": "stdout",
          "text": [
            "pacote 3\n",
            "pacote 1\n",
            "pacote 2\n"
          ]
        }
      ]
    }
  ]
}