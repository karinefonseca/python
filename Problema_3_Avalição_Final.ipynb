{
  "nbformat": 4,
  "nbformat_minor": 0,
  "metadata": {
    "colab": {
      "provenance": [],
      "authorship_tag": "ABX9TyMae1RR5/2TlHPQ1UqECLYd",
      "include_colab_link": true
    },
    "kernelspec": {
      "name": "python3",
      "display_name": "Python 3"
    },
    "language_info": {
      "name": "python"
    }
  },
  "cells": [
    {
      "cell_type": "markdown",
      "metadata": {
        "id": "view-in-github",
        "colab_type": "text"
      },
      "source": [
        "<a href=\"https://colab.research.google.com/github/karinefonseca/python/blob/main/Problema_3_Avali%C3%A7%C3%A3o_Final.ipynb\" target=\"_parent\"><img src=\"https://colab.research.google.com/assets/colab-badge.svg\" alt=\"Open In Colab\"/></a>"
      ]
    },
    {
      "cell_type": "markdown",
      "source": [
        "**Problema 3**\n",
        "\n",
        "Mário é dono de uma empresa de guarda-volumes, a Armários a Custos Moderados\n",
        "(ACM). Mário conquistou sua clientela graças à rapidez no processo de armazenar\n",
        "os volumes. Para isso, ele tem duas técnicas:\n",
        "\n",
        "*   Todos os armários estão dispostos numa fila e são numerados com inteirospositivos a partir de 1. Isso permite a Mário economizar tempo na hora de procurar um armário;\n",
        "\n",
        "*   Todos os armários têm rodinhas, o que lhe dá grande flexibilidade na hora de\n",
        "rearranjar seus armários (naturalmente, quando Mário troca dois armários de\n",
        "posição, ele também troca suas numerações, para que eles continuem\n",
        "numerados sequencialmente a partir de 1).\n",
        "\n",
        "Para alugar armários para um novo cliente, Mário gosta de utilizar armários\n",
        "contíguos, pois no início da locação um novo cliente em geral faz muitas requisições para acessar o conteúdo armazenado, e o fato de os armários estarem contíguos facilita o acesso para o cliente e para Mário.\n",
        "Desde que Mário tenha armários livres em quantidade suficiente, ele sempre\n",
        "pode conseguir isso. Por exemplo, se a requisição de um novo cliente necessita de quatro armários, mas apenas os armários de número 1, 3, 5, 6, 8 estiverem\n",
        "disponíveis, Mário pode trocar os armários 5 e 2 e os armários 6 e 4 de posição:\n",
        "assim, ele pode alugar o intervalo de armários de 1 até 4.\n",
        "No entanto, para minimizar o tempo de atendimento a um novo cliente, Mário\n",
        "quer fazer o menor número de trocas possível para armazenar cada volume. No\n",
        "exemplo acima, ele poderia simplesmente trocar os armários 1 e 4 de posição, e\n",
        "alugar o intervalo de 3 até 6.\n",
        "Mário está muito ocupado com seus clientes e pediu que você fizesse um\n",
        "programa para determinar o número mínimo de trocas necessário para satisfazer o\n",
        "pedido de locação de um novo cliente.\n",
        "A entrada contém vários casos de teste. A primeira linha de cada caso de\n",
        "teste contém dois números inteiros N e L (1 ≤ N ≤ L ≤ 100.000), indicando quantos armários são necessários para acomodar o pedido de locação do novo cliente e quantos armários estão disponíveis, respectivamente. A linha seguinte contém L números inteiros positivos separados por espaços em branco, nenhum deles maior do que 1.000.000.000, indicando as posições dos armários disponíveis. Os números dos armários livres são dados em ordem crescente. O final da entrada é indicado por um caso onde N = L = 0.\n",
        "Para cada caso de teste, imprima uma linha contendo um único número\n",
        "inteiro, indicando o número mínimo de trocas que Mário precisa efetuar para\n",
        "satisfazer o pedido do novo cliente (ou seja, ter N armários consecutivos livres).\n",
        "\n",
        "\n"
      ],
      "metadata": {
        "id": "ITzc_mYrBiKk"
      }
    },
    {
      "cell_type": "code",
      "execution_count": 6,
      "metadata": {
        "id": "ykAUZCHbBhxp"
      },
      "outputs": [],
      "source": [
        "def check_sequence(start, lockers, l, n):\n",
        "    i = start\n",
        "    final_pos = lockers[start] + n\n",
        "    while True:\n",
        "        if i < l and lockers[i] < final_pos:\n",
        "            i += 1\n",
        "        else:\n",
        "            break\n",
        "    return i - start"
      ]
    },
    {
      "cell_type": "code",
      "source": [
        "def best_sequence(lockers, l, n):\n",
        "    max_possible_seq = 0\n",
        "    final_index = l - 1\n",
        "\n",
        "    while final_index > 0 and lockers[final_index] > lockers[l-1] - n:\n",
        "        final_index -= 1\n",
        "    if final_index < l - 1 and lockers[final_index] < lockers[l-1] - n:\n",
        "        final_index += 1\n",
        "\n",
        "    for i in range(final_index + 1):\n",
        "        x = check_sequence(i, lockers, l, n)\n",
        "        if x > max_possible_seq:\n",
        "            max_possible_seq = x\n",
        "\n",
        "    return max_possible_seq"
      ],
      "metadata": {
        "id": "dXqu1NNEB3Av"
      },
      "execution_count": 7,
      "outputs": []
    },
    {
      "cell_type": "code",
      "source": [
        "#como a saída era muito grande, resolvi comparar um arquivo com a saída gerada com a saída fornecida\n",
        "def compare_output(file_name1, file_name2):\n",
        "    with open(file_name1, 'r') as file1, open(file_name2, 'r') as file2:\n",
        "        output1 = file1.read().strip()\n",
        "        output2 = file2.read().strip()\n",
        "\n",
        "        if output1 == output2:\n",
        "            print(\"Os arquivos são iguais!\")\n",
        "        else:\n",
        "            print(\"Os arquivos são diferentes.\")"
      ],
      "metadata": {
        "id": "ipzKpzgqB5va"
      },
      "execution_count": 8,
      "outputs": []
    },
    {
      "cell_type": "code",
      "source": [
        "def main():\n",
        "    with open('problema3.in', 'r') as f, open(\"problema3_saida_software.sol\", \"w\") as file:\n",
        "        while True:\n",
        "            n, l = map(int, f.readline().split())\n",
        "            if n == 0:\n",
        "                break\n",
        "            lockers = list(map(int, f.readline().split()))\n",
        "            output = (n - best_sequence(lockers, l, n))\n",
        "            file.write(str(output) + \"\\n\")\n",
        "             #print(n - best_sequence(lockers, l, n))\n",
        "    compare_output(\"problema3.sol\", \"problema3_saida_software.sol\")"
      ],
      "metadata": {
        "id": "9PCNcaOnCAop"
      },
      "execution_count": 9,
      "outputs": []
    },
    {
      "cell_type": "code",
      "source": [
        "if __name__ == \"__main__\":\n",
        "    main()"
      ],
      "metadata": {
        "colab": {
          "base_uri": "https://localhost:8080/"
        },
        "id": "RKtM0RRJCCt-",
        "outputId": "1c09d532-5092-48e2-fc28-eb830b88ee49"
      },
      "execution_count": 10,
      "outputs": [
        {
          "output_type": "stream",
          "name": "stdout",
          "text": [
            "Os arquivos são iguais!\n"
          ]
        }
      ]
    }
  ]
}