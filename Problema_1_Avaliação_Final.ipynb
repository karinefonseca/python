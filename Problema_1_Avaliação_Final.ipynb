{
  "nbformat": 4,
  "nbformat_minor": 0,
  "metadata": {
    "colab": {
      "provenance": [],
      "include_colab_link": true
    },
    "kernelspec": {
      "name": "python3",
      "display_name": "Python 3"
    },
    "language_info": {
      "name": "python"
    }
  },
  "cells": [
    {
      "cell_type": "markdown",
      "metadata": {
        "id": "view-in-github",
        "colab_type": "text"
      },
      "source": [
        "<a href=\"https://colab.research.google.com/github/karinefonseca/python/blob/main/Problema_1_Avalia%C3%A7%C3%A3o_Final.ipynb\" target=\"_parent\"><img src=\"https://colab.research.google.com/assets/colab-badge.svg\" alt=\"Open In Colab\"/></a>"
      ]
    },
    {
      "cell_type": "markdown",
      "source": [
        "**Problema 1**\n",
        "\n",
        "Considerando uma folha de papel plana com vários pontos localizados em\n",
        "determinadas coordenadas (x,y), escreva um algoritmo para conectar todos os\n",
        "pontos de forma a minimizar a quantidade de tinta usada. O algoritmo vai conectar os pontos desenhando uma linha reta entre pares. Quando terminado, deve existir uma sequência de linhas que permita chegar de um ponto a qualquer outro ponto.\n",
        "\n",
        "A entrada para testar o programa inicia por um positivo inteiro indicando o\n",
        "número de casos de teste. Após, aparece uma linha em branco seguida de um caso\n",
        "de teste. Caso haja, mais de um caso de teste, haverá sempre uma linha em branco\n",
        "separando-os.\n",
        "\n",
        "A primeira linha do caso de teste contém um inteiro 0 < n <100, o número de\n",
        "pontos na folha. Para cada ponto há um linha, cada linha seguinte contém dois reais indicando as coordenadas (x,y) do ponto.\n",
        "\n",
        "A saída do programa deve escrever um real com duas casas decimais,\n",
        "indicando o comprimento mínimo linhas traçadas que conectam todos os pontos. As\n",
        "saídas de dois casos consecutivos deve ser separada por uma linha em branco."
      ],
      "metadata": {
        "id": "-Q0IU8__MYWU"
      }
    },
    {
      "cell_type": "code",
      "execution_count": 1,
      "metadata": {
        "id": "mB2QzPATF6Ga"
      },
      "outputs": [],
      "source": [
        "import math\n"
      ]
    },
    {
      "cell_type": "code",
      "source": [
        "class Point:\n",
        "    def __init__(self, x, y):\n",
        "        self.x = x\n",
        "        self.y = y"
      ],
      "metadata": {
        "id": "Z907mhmbJmBE"
      },
      "execution_count": 2,
      "outputs": []
    },
    {
      "cell_type": "code",
      "source": [
        "class Edge:\n",
        "    def __init__(self, u, v, weight):\n",
        "        self.u = u\n",
        "        self.v = v\n",
        "        self.weight = weight"
      ],
      "metadata": {
        "id": "5iVeKqHxJn1p"
      },
      "execution_count": 3,
      "outputs": []
    },
    {
      "cell_type": "code",
      "source": [
        "def distance(p1, p2):\n",
        "    return math.sqrt((p1.x - p2.x) ** 2 + (p1.y - p2.y) ** 2)"
      ],
      "metadata": {
        "id": "8kTZ-sDSJvGo"
      },
      "execution_count": 4,
      "outputs": []
    },
    {
      "cell_type": "code",
      "source": [
        "def find(parent, i):\n",
        "    if parent[i] == i:\n",
        "        return i\n",
        "    return find(parent, parent[i])"
      ],
      "metadata": {
        "id": "i6XuIoM4Ju3T"
      },
      "execution_count": 5,
      "outputs": []
    },
    {
      "cell_type": "code",
      "source": [
        "def union(parent, rank, x, y):\n",
        "    x_root = find(parent, x)\n",
        "    y_root = find(parent, y)\n",
        "\n",
        "    if rank[x_root] < rank[y_root]:\n",
        "        parent[x_root] = y_root\n",
        "    elif rank[x_root] > rank[y_root]:\n",
        "        parent[y_root] = x_root\n",
        "    else:\n",
        "        parent[y_root] = x_root\n",
        "        rank[x_root] += 1"
      ],
      "metadata": {
        "id": "lpH49_EKJu_X"
      },
      "execution_count": 6,
      "outputs": []
    },
    {
      "cell_type": "code",
      "source": [
        "def kruskal(points):\n",
        "    num_points = len(points)\n",
        "    edges = []\n",
        "\n",
        "    for i in range(num_points):\n",
        "        for j in range(i + 1, num_points):\n",
        "            dist = distance(points[i], points[j])\n",
        "            edges.append(Edge(i, j, dist))\n",
        "\n",
        "    edges.sort(key=lambda x: x.weight)\n",
        "\n",
        "    parent = [i for i in range(num_points)]\n",
        "    rank = [0] * num_points\n",
        "\n",
        "    min_cost = 0.0\n",
        "\n",
        "    for edge in edges:\n",
        "        u = edge.u\n",
        "        v = edge.v\n",
        "        weight = edge.weight\n",
        "\n",
        "        if find(parent, u) != find(parent, v):\n",
        "            union(parent, rank, u, v)\n",
        "            min_cost += weight\n",
        "\n",
        "    return min_cost"
      ],
      "metadata": {
        "id": "U08wYQiyJ57c"
      },
      "execution_count": 7,
      "outputs": []
    },
    {
      "cell_type": "code",
      "source": [
        "def read_input(file_name, output_file_name):\n",
        "    with open(file_name, 'r') as input_file, open(output_file_name, 'w') as output_file:\n",
        "        num_tests = int(input_file.readline())\n",
        "\n",
        "        for _ in range(num_tests):\n",
        "            input_file.readline()  # Linha em branco\n",
        "\n",
        "            num_points = int(input_file.readline())\n",
        "            points = []\n",
        "\n",
        "            for _ in range(num_points):\n",
        "                x, y = map(float, input_file.readline().split())\n",
        "                points.append(Point(x, y))\n",
        "\n",
        "            min_cost = kruskal(points)\n",
        "\n",
        "            output_file.write(f\"{min_cost:.2f}\\n\")\n",
        "            output_file.write(\"\\n\")  # Linha em branco\n"
      ],
      "metadata": {
        "id": "BNQZks6SJ_Cw"
      },
      "execution_count": 8,
      "outputs": []
    },
    {
      "cell_type": "code",
      "source": [
        "#como a saída era muito grande, resolvi comparar um arquivo com a saída gerada com a saída fornecida\n",
        "def compare_output(file_name1, file_name2):\n",
        "    with open(file_name1, 'r') as file1, open(file_name2, 'r') as file2:\n",
        "        output1 = file1.read().strip()\n",
        "        output2 = file2.read().strip()\n",
        "\n",
        "        if output1 == output2:\n",
        "            print(\"Os arquivos são iguais!\")\n",
        "        else:\n",
        "            print(\"Os arquivos são diferentes.\")\n"
      ],
      "metadata": {
        "id": "CQx3dDJ0LMQE"
      },
      "execution_count": 9,
      "outputs": []
    },
    {
      "cell_type": "code",
      "source": [
        "def main():\n",
        "\n",
        "  input_file_name = 'problema1.in'\n",
        "  output_file_name_software = 'problema1_saida_software.sol'\n",
        "  output_file_name = 'problema1.sol'\n",
        "\n",
        "  read_input(input_file_name, output_file_name_software)\n",
        "  compare_output(output_file_name_software, output_file_name)"
      ],
      "metadata": {
        "id": "d-KlWT-e_AA6"
      },
      "execution_count": 10,
      "outputs": []
    },
    {
      "cell_type": "code",
      "source": [
        "if __name__ == \"__main__\":\n",
        "    main()"
      ],
      "metadata": {
        "id": "30eAs4jc_Ug7",
        "outputId": "682413b2-523a-47f0-94be-420aa9b3db3b",
        "colab": {
          "base_uri": "https://localhost:8080/"
        }
      },
      "execution_count": 11,
      "outputs": [
        {
          "output_type": "stream",
          "name": "stdout",
          "text": [
            "Os arquivos são iguais!\n"
          ]
        }
      ]
    }
  ]
}