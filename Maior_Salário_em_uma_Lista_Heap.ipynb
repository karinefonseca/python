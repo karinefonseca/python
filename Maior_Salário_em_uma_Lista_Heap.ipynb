{
  "nbformat": 4,
  "nbformat_minor": 0,
  "metadata": {
    "colab": {
      "provenance": [],
      "authorship_tag": "ABX9TyNwMUaO7Kq8Mv27nqlnTkSq",
      "include_colab_link": true
    },
    "kernelspec": {
      "name": "python3",
      "display_name": "Python 3"
    },
    "language_info": {
      "name": "python"
    }
  },
  "cells": [
    {
      "cell_type": "markdown",
      "metadata": {
        "id": "view-in-github",
        "colab_type": "text"
      },
      "source": [
        "<a href=\"https://colab.research.google.com/github/karinefonseca/python/blob/main/Maior_Sal%C3%A1rio_em_uma_Lista_Heap.ipynb\" target=\"_parent\"><img src=\"https://colab.research.google.com/assets/colab-badge.svg\" alt=\"Open In Colab\"/></a>"
      ]
    },
    {
      "cell_type": "markdown",
      "source": [
        "Neste exemplo, criamos uma lista de funcionários com seus respectivos salários e definindo o valor de k para o k-ésimo maior salário que queremos encontrar. \n",
        "\n",
        "Em seguida, criamos um heap com os salários dos funcionários usando o módulo heapq.\n",
        "\n",
        "Iteramos sobre o heap k vezes para encontrar o k-ésimo maior salário, removendo o maior valor do heap em cada iteração usando o método heappop(). Por fim, imprimimos o resultado."
      ],
      "metadata": {
        "id": "snnxr0TwieTl"
      }
    },
    {
      "cell_type": "code",
      "execution_count": 2,
      "metadata": {
        "colab": {
          "base_uri": "https://localhost:8080/"
        },
        "id": "lQUWx4vgiORi",
        "outputId": "92850f5b-2966-4da0-afb1-b473df935442"
      },
      "outputs": [
        {
          "output_type": "stream",
          "name": "stdout",
          "text": [
            "O 5-ésimo maior salário é: 2000\n"
          ]
        }
      ],
      "source": [
        "import heapq\n",
        "\n",
        "# Criar uma lista de funcionários com seus respectivos salários\n",
        "funcionarios = [('João', 3000), ('Maria', 5000), ('Pedro', 2000), ('Lucas', 4500), ('Ana', 6000)]\n",
        "\n",
        "# Definir o valor de k para o k-ésimo maior salário que queremos encontrar\n",
        "k = 5\n",
        "\n",
        "# Criar um heap com os salários dos funcionários usando o módulo heapq\n",
        "salarios_heap = [-salario for nome, salario in funcionarios]\n",
        "heapq.heapify(salarios_heap)\n",
        "\n",
        "# Iterar sobre o heap k vezes para encontrar o k-ésimo maior salário\n",
        "for i in range(k):\n",
        "    kth_largest = -heapq.heappop(salarios_heap)\n",
        "\n",
        "# Imprimir o resultado\n",
        "print(f'O {k}-ésimo maior salário é: {kth_largest}')"
      ]
    }
  ]
}