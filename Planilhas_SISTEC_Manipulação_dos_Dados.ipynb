{
  "nbformat": 4,
  "nbformat_minor": 0,
  "metadata": {
    "colab": {
      "provenance": [],
      "include_colab_link": true
    },
    "kernelspec": {
      "name": "python3",
      "display_name": "Python 3"
    },
    "language_info": {
      "name": "python"
    }
  },
  "cells": [
    {
      "cell_type": "markdown",
      "metadata": {
        "id": "view-in-github",
        "colab_type": "text"
      },
      "source": [
        "<a href=\"https://colab.research.google.com/github/karinefonseca/python/blob/main/Planilhas_SISTEC_Manipula%C3%A7%C3%A3o_dos_Dados.ipynb\" target=\"_parent\"><img src=\"https://colab.research.google.com/assets/colab-badge.svg\" alt=\"Open In Colab\"/></a>"
      ]
    },
    {
      "cell_type": "markdown",
      "source": [
        "## Contagem do Número de Alunos por Curso"
      ],
      "metadata": {
        "id": "nf_dbJSfObz4"
      }
    },
    {
      "cell_type": "code",
      "execution_count": null,
      "metadata": {
        "id": "r0bmw4RXQ4DZ"
      },
      "outputs": [],
      "source": [
        "import pandas as pd\n",
        "\n",
        "dataframes = []\n",
        "\n",
        "arquivos = ['PTAD2017.csv', 'PTAD2018.csv', 'PTAD2019.csv','PTAD2020.csv', 'PTAD2020.csv', 'PTAD2021.csv', 'PTAD2022.csv','PTAD2023.csv']\n",
        "\n",
        "for arquivo in arquivos:\n",
        "    df = pd.read_csv(arquivo,sep=';', encoding='latin-1')\n",
        "    dataframes.append(df)\n",
        "\n",
        "df_final = pd.concat(dataframes, axis=0)\n",
        "\n",
        "df_final.to_csv('arquivo_final.csv', index=False)\n",
        "\n",
        "df_final.head()\n",
        "\n",
        "num_linhas = len(df_final.index)\n",
        "print(\"Número de linhas:\", num_linhas)\n",
        "\n",
        "soma_valores = df_final['QTD DE MATRICULAS'].sum()\n",
        "print(\"Soma dos valores:\", soma_valores)\n",
        "\n",
        "soma_alunos_por_curso = df_final.groupby('NOME DO CURSO')['QTD DE MATRICULAS'].sum()\n",
        "print(soma_alunos_por_curso)"
      ]
    },
    {
      "cell_type": "markdown",
      "source": [
        "## Alteração do Nome dos Cursos (para lançamento no SISTEC)"
      ],
      "metadata": {
        "id": "WLTvBwm1OmeK"
      }
    },
    {
      "cell_type": "code",
      "source": [
        "pip install openpyxl"
      ],
      "metadata": {
        "colab": {
          "base_uri": "https://localhost:8080/"
        },
        "id": "lDSHAiXJCFfB",
        "outputId": "a72ff10e-21f0-4e80-dbfa-b899b7c6b2d6"
      },
      "execution_count": null,
      "outputs": [
        {
          "output_type": "stream",
          "name": "stdout",
          "text": [
            "Requirement already satisfied: openpyxl in /usr/local/lib/python3.10/dist-packages (3.1.5)\n",
            "Requirement already satisfied: et-xmlfile in /usr/local/lib/python3.10/dist-packages (from openpyxl) (1.1.0)\n"
          ]
        }
      ]
    },
    {
      "cell_type": "code",
      "source": [
        "import openpyxl\n",
        "\n",
        "caminho_arquivo = '/content/JUNHO.xlsx'\n",
        "\n",
        "substituicoes = {\n",
        "    \"Altas Habilidades / Superdotação: conceitos\":\"ALTAS HABILIDADES/ SUPERDOTAÇÃO: CONCEITOS\",\n",
        "    #\"Como Usar o Laboratório de Informática nas aulas? Ensino Infantil e Fundamental - Anos Iniciais\": \"Como Usar o Laboratório de Informática nas aulas? Ensino Infantil e Fundamental - Anos Iniciais\"\n",
        "    \"Criação de Videoaulas na Educação a Distância\" : \"CRIAÇÃO DE VIDEOAULAS PARA EDUCAÇÃO A DISTÂNCIA\",\n",
        "    \"Ensino e Aprendizagem na EaD\": \"ENSINO E APRENDIZAGEM NA EDUCAÇÃO A DISTÂNCIA\",\n",
        "    \"Gamificação no Moodle na Educação a Distância\":\"GAMIFICAÇÃO NO MOODLE PARA EDUCAÇÃO A DISTÂNCIA\",\n",
        "    \"Iniciação ao Serviço Público nos Institutos Federais\": \"Iniciação ao Serviço Público\",\n",
        "    \"Língua Portuguesa e Cultura Brasileira para Estrangeiros Básico\": \"LÍNGUA PORTUGUESA E CULTURA BRASILEIRA PARA ESTRANGEIROS - BÁSICO\",\n",
        "    \"Língua Portuguesa e Cultura Brasileira para Estrangeiros Intermediário\": \"LÍNGUA PORTUGUESA E CULTURA BRASILEIRA PARA ESTRANGEIROS - INTERMEDIÁRIO\",\n",
        "    \"O Uso de Aplicativos Web na Construção de Materiais Educacionais na Educação a Distância\": \"O USO DE APLICATIVOS WEB NA CONSTRUÇÃO DE MATERIAIS EDUCACIONAIS PARA A EDUCAÇÃO A DISTÂNCIA\",\n",
        "    \"Repositórios de Materiais Didáticos Digitais e Direitos de Uso na Educação a Distância\": \"REPOSITÓRIOS DE MATERIAIS DIDÁTICOS DIGITAIS E DIREITOS DE USO PARA A EDUCAÇÃO A DISTÂNCIA\",\n",
        "    \"Técnicas de Escrita para Educação a Distância\": \"TÉCNICAS DE ESCRITA PARA A EDUCAÇÃO A DISTÂNCIA\"\n",
        "}\n",
        "\n",
        "def modificar_aba(nome_aba, coluna):\n",
        "    ws = wb[nome_aba]\n",
        "    col_idx = openpyxl.utils.column_index_from_string(coluna)\n",
        "    for row in ws.iter_rows(min_row=1, max_row=ws.max_row, min_col=col_idx, max_col=col_idx):\n",
        "        for cell in row:\n",
        "            if cell.value in substituicoes:\n",
        "                cell.value = substituicoes[cell.value]\n",
        "\n",
        "\n",
        "wb = openpyxl.load_workbook(caminho_arquivo)\n",
        "\n",
        "modificar_aba('Cursos', 'C')\n",
        "modificar_aba('Alunos', 'A')\n",
        "\n",
        "wb.save('planilha_junho_modificada.xlsx')"
      ],
      "metadata": {
        "id": "DETtY6cAHO7A"
      },
      "execution_count": null,
      "outputs": []
    },
    {
      "cell_type": "markdown",
      "source": [
        "## Agrupamento de Planilhas para lançamento de vários meses no SISTEC"
      ],
      "metadata": {
        "id": "HVYmQVXFOzC8"
      }
    },
    {
      "cell_type": "code",
      "source": [
        "import pandas as pd\n",
        "\n",
        "arquivos = ['/content/abril.xlsx', '/content/maio.xlsx', '/content/junho.xlsx']\n",
        "\n",
        "dataframes_cursos = []\n",
        "dataframes_alunos = []\n",
        "\n",
        "for arquivo in arquivos:\n",
        "    df_cursos = pd.read_excel(arquivo, sheet_name='Cursos', engine='openpyxl')\n",
        "    df_alunos = pd.read_excel(arquivo, sheet_name='Alunos', engine='openpyxl')\n",
        "    #print(f\"Arquivo {arquivo} lido com {len(df_cursos)} linhas na aba 'Cursos' e {len(df_alunos)} linhas na aba 'Alunos'.\")\n",
        "    dataframes_cursos.append(df_cursos)\n",
        "    dataframes_alunos.append(df_alunos)\n",
        "\n",
        "df_concatenado_cursos = pd.concat(dataframes_cursos, axis=0)\n",
        "\n",
        "df_final_cursos = df_concatenado_cursos.groupby(['Instituição', 'Campus', 'Curso', 'CH', 'Modalidade', 'Responsável'], as_index=False).agg({\n",
        "    'Inicio': 'max',\n",
        "    'Fim': 'max',\n",
        "    'Oferta': 'sum',\n",
        "    'Vagas': 'sum'\n",
        "})\n",
        "\n",
        "df_final_cursos = df_final_cursos[['Instituição', 'Campus', 'Curso', 'Inicio', 'Fim', 'Oferta', 'CH', 'Modalidade', 'Vagas', 'Responsável']]\n",
        "\n",
        "df_final_alunos = pd.concat(dataframes_alunos, axis=0)\n",
        "\n",
        "with pd.ExcelWriter('compilado_abr_mai_jun.xlsx', engine='openpyxl') as writer:\n",
        "    df_final_cursos.to_excel(writer, sheet_name='Cursos', index=False)\n",
        "    df_final_alunos.to_excel(writer, sheet_name='Alunos', index=False)\n",
        "\n",
        "#print(\"Arquivo final salvo com sucesso!\")\n",
        "\n",
        "# Verificação\n",
        "\n",
        "# print(df_final_cursos.head())\n",
        "# print(df_final_alunos.head())\n",
        "\n",
        "# num_linhas_cursos = len(df_final_cursos.index)\n",
        "# num_linhas_alunos = len(df_final_alunos.index)\n",
        "# print(\"Número de linhas em 'Cursos':\", num_linhas_cursos)\n",
        "# print(\"Número de linhas em 'Alunos':\", num_linhas_alunos)\n",
        "\n",
        "# soma_valores_oferta = df_final_cursos['Oferta'].sum()\n",
        "# soma_valores_vagas = df_final_cursos['Vagas'].sum()\n",
        "# print(\"Soma dos valores de Oferta em 'Cursos':\", soma_valores_oferta)\n",
        "# print(\"Soma dos valores de Vagas em 'Cursos':\", soma_valores_vagas)\n"
      ],
      "metadata": {
        "colab": {
          "base_uri": "https://localhost:8080/"
        },
        "id": "sCOrYz2ZhSKH",
        "outputId": "1ce7b1ce-3ac9-4651-8f31-a1898267e32e"
      },
      "execution_count": null,
      "outputs": [
        {
          "output_type": "stream",
          "name": "stdout",
          "text": [
            "Arquivo /content/abril.xlsx lido com 190 linhas na aba 'Cursos' e 19667 linhas na aba 'Alunos'.\n",
            "Arquivo /content/maio.xlsx lido com 189 linhas na aba 'Cursos' e 24084 linhas na aba 'Alunos'.\n",
            "Arquivo /content/junho.xlsx lido com 190 linhas na aba 'Cursos' e 36282 linhas na aba 'Alunos'.\n",
            "Arquivo final salvo com sucesso!\n",
            "  Instituição           Campus  \\\n",
            "0        IFRS  Bento Gonçalves   \n",
            "1        IFRS  Bento Gonçalves   \n",
            "2        IFRS  Bento Gonçalves   \n",
            "3        IFRS  Bento Gonçalves   \n",
            "4        IFRS  Bento Gonçalves   \n",
            "\n",
            "                                               Curso     Inicio        Fim  \\\n",
            "0                         A arte de falar em público 2024-06-01 2024-06-30   \n",
            "1         ALTAS HABILIDADES/ SUPERDOTAÇÃO: CONCEITOS 2024-06-01 2024-06-30   \n",
            "2  Abordagens Pedagógicas Modernas na Educação a ... 2024-06-01 2024-06-30   \n",
            "3                              Administração Pública 2024-06-01 2024-06-30   \n",
            "4                    Administração Pública Municipal 2024-06-01 2024-06-30   \n",
            "\n",
            "   Oferta    CH    Modalidade   Vagas                         Responsável  \n",
            "0    1812  20.0  Concomitante  1812.0     augusto.veber@bento.ifrs.edu.br  \n",
            "1     611  20.0  Concomitante   611.0               proen.ead@ifrs.edu.br  \n",
            "2     219  20.0   Subsequente   219.0               proen.ead@ifrs.edu.br  \n",
            "3    1021  20.0   Subsequente  1021.0         proen.ead@bento.ifrs.edu.br  \n",
            "4     633  20.0   Subsequente   633.0  andreia.carneiro@bento.ifrs.edu.br  \n",
            "                        Curso          CPF                       Estudante  \\\n",
            "0  A arte de falar em público  11281786306              ABDIAS FRAGA SILVA   \n",
            "1  A arte de falar em público  47773094870                    ABNA MARTINS   \n",
            "2  A arte de falar em público   1675405131          ADRIELLY ASSIS BARBOSA   \n",
            "3  A arte de falar em público  53122370867  ADRIELLY SANTOS SILVA DE SOUZA   \n",
            "4  A arte de falar em público  70535022603                 ADRYCIA ALMEIDA   \n",
            "\n",
            "     Situacao     Cor          Renda Instituição           Campus  Unnamed: 8  \\\n",
            "0  Concluinte  Branca   1,0<RFP<=1,5        IFRS  Bento Gonçalves         NaN   \n",
            "1  Concluinte  Branca   1,0<RFP<=1,5        IFRS  Bento Gonçalves         NaN   \n",
            "2  Concluinte   Preta  Nao declarada        IFRS  Bento Gonçalves         NaN   \n",
            "3  Concluinte   Parda  Nao declarada        IFRS  Bento Gonçalves         NaN   \n",
            "4  Concluinte  Branca   1,5<RFP<=2,5        IFRS  Bento Gonçalves         NaN   \n",
            "\n",
            "  Unnamed: 9  \n",
            "0        NaN  \n",
            "1        NaN  \n",
            "2        NaN  \n",
            "3        NaN  \n",
            "4        NaN  \n",
            "Número de linhas em 'Cursos': 190\n",
            "Número de linhas em 'Alunos': 80033\n",
            "Soma dos valores de Oferta em 'Cursos': 80033\n",
            "Soma dos valores de Vagas em 'Cursos': 80033.0\n"
          ]
        }
      ]
    }
  ]
}