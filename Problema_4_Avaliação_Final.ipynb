{
  "nbformat": 4,
  "nbformat_minor": 0,
  "metadata": {
    "colab": {
      "provenance": [],
      "authorship_tag": "ABX9TyOVqhKyMk4pDIiDKvVRuonX",
      "include_colab_link": true
    },
    "kernelspec": {
      "name": "python3",
      "display_name": "Python 3"
    },
    "language_info": {
      "name": "python"
    }
  },
  "cells": [
    {
      "cell_type": "markdown",
      "metadata": {
        "id": "view-in-github",
        "colab_type": "text"
      },
      "source": [
        "<a href=\"https://colab.research.google.com/github/karinefonseca/python/blob/main/Problema_4_Avalia%C3%A7%C3%A3o_Final.ipynb\" target=\"_parent\"><img src=\"https://colab.research.google.com/assets/colab-badge.svg\" alt=\"Open In Colab\"/></a>"
      ]
    },
    {
      "cell_type": "markdown",
      "source": [
        "**Problema 4**\n",
        "\n",
        "Um desenvolvedor está muito preocupado com os cenários do seu mais novo jogo.\n",
        "Os contornos dos cenários já foram desenhados por um artista, restando ao\n",
        "desenvolvedor apenas colori-los. No momento, cada cenário é uma imagem em que cada pixel está preto ou branco. Assim, quando o desenvolvedor, em seu programa\n",
        "de coloração de imagens, clica num pixel branco para ser colorido com uma cor α, toda a região branca em que está o pixel selecionado recebe a cor α. Dizemos que um pixel branco A está na mesma região branca que um pixel branco B se existe um caminho entre A e B que passa apenas por pixels brancos e que considera as adjacências apenas nos sentidos horizontal e vertical."
      ],
      "metadata": {
        "id": "p-IyOt5dC6b1"
      }
    },
    {
      "cell_type": "code",
      "execution_count": 1,
      "metadata": {
        "id": "iOPY26gYCKg7"
      },
      "outputs": [],
      "source": [
        "from collections import deque"
      ]
    },
    {
      "cell_type": "code",
      "source": [
        "def bfs(image, i, j, visited):\n",
        "    rows = len(image)\n",
        "    cols = len(image[0])\n",
        "    color = image[i][j]\n",
        "    queue = deque([(i, j)])\n",
        "    visited[i][j] = True\n",
        "\n",
        "    while queue:\n",
        "        x, y = queue.popleft()\n",
        "\n",
        "        directions = [(-1, 0), (1, 0), (0, -1), (0, 1)]\n",
        "\n",
        "        for dx, dy in directions:\n",
        "            nx = x + dx\n",
        "            ny = y + dy\n",
        "\n",
        "            if 0 <= nx < rows and 0 <= ny < cols and image[nx][ny] == color and not visited[nx][ny]:\n",
        "                visited[nx][ny] = True\n",
        "                queue.append((nx, ny))"
      ],
      "metadata": {
        "id": "wyQq6XmoDAHl"
      },
      "execution_count": 2,
      "outputs": []
    },
    {
      "cell_type": "code",
      "source": [
        "def count_clicks(image):\n",
        "    rows = len(image)\n",
        "    cols = len(image[0])\n",
        "    visited = [[False] * cols for _ in range(rows)]\n",
        "    clicks = 0\n",
        "\n",
        "    for i in range(rows):\n",
        "        for j in range(cols):\n",
        "            if image[i][j] == '.' and not visited[i][j]:\n",
        "                bfs(image, i, j, visited)\n",
        "                clicks += 1\n",
        "\n",
        "    return clicks"
      ],
      "metadata": {
        "id": "6oWTM6foDBu1"
      },
      "execution_count": 3,
      "outputs": []
    },
    {
      "cell_type": "code",
      "source": [
        "def read_input(file_path):\n",
        "    with open(file_path, 'r') as file:\n",
        "        while True:\n",
        "            # Lê a primeira linha do exemplo (N e M)\n",
        "            line = file.readline()\n",
        "            if not line:  # Verifica se chegou ao final do arquivo\n",
        "                break\n",
        "\n",
        "            N, M = map(int, line.split())\n",
        "            image = []\n",
        "\n",
        "            # Lê as próximas N linhas contendo a imagem\n",
        "            for _ in range(N):\n",
        "                line = file.readline().strip()\n",
        "                image.append(list(line))\n",
        "\n",
        "            result = count_clicks(image)\n",
        "            print(result)"
      ],
      "metadata": {
        "id": "vIFkfKeLDDg0"
      },
      "execution_count": 4,
      "outputs": []
    },
    {
      "cell_type": "code",
      "source": [
        "def main():\n",
        "    file_path = \"problema4.in\"\n",
        "    read_input(file_path)"
      ],
      "metadata": {
        "id": "NUOeblilDFHE"
      },
      "execution_count": 5,
      "outputs": []
    },
    {
      "cell_type": "code",
      "source": [
        "if __name__ == \"__main__\":\n",
        "  main()"
      ],
      "metadata": {
        "colab": {
          "base_uri": "https://localhost:8080/"
        },
        "id": "eYOdkl6UDGwM",
        "outputId": "e36517ca-a6a7-4dc1-b495-8ce66dde1a37"
      },
      "execution_count": 6,
      "outputs": [
        {
          "output_type": "stream",
          "name": "stdout",
          "text": [
            "123\n",
            "43120\n",
            "69247\n"
          ]
        }
      ]
    }
  ]
}