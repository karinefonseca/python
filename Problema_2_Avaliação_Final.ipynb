{
  "nbformat": 4,
  "nbformat_minor": 0,
  "metadata": {
    "colab": {
      "provenance": [],
      "authorship_tag": "ABX9TyO7WrjQo2LLzdGPuvIiCBOL",
      "include_colab_link": true
    },
    "kernelspec": {
      "name": "python3",
      "display_name": "Python 3"
    },
    "language_info": {
      "name": "python"
    }
  },
  "cells": [
    {
      "cell_type": "markdown",
      "metadata": {
        "id": "view-in-github",
        "colab_type": "text"
      },
      "source": [
        "<a href=\"https://colab.research.google.com/github/karinefonseca/python/blob/main/Problema_2_Avalia%C3%A7%C3%A3o_Final.ipynb\" target=\"_parent\"><img src=\"https://colab.research.google.com/assets/colab-badge.svg\" alt=\"Open In Colab\"/></a>"
      ]
    },
    {
      "cell_type": "markdown",
      "source": [
        "**Problema 2**\n",
        "\n",
        "Você é um prisioneiro político na prisão. As coisas parecem sombrias, mas, felizmente, seu companheiro de prisão elaborou um plano de fuga. Ele deu um jeito de vocês dois saírem da cela e correrem pela cidade até a estação de trem, de onde vocês vão deixar o país. Seu amigo escapará primeiro e correrá pelas ruas da cidade até a estação de trem. Ele então ligará para você de lá no seu celular (que alguém trouxe para você dentro de um bolo), e você começará a correr para a mesma estação de trem. Quando você encontrar seu amigo lá, ambos embarcarão em um trem e estarão a caminho da liberdade.\n",
        "\n",
        "Seu amigo estará correndo pelas ruas durante o dia, vestindo suas roupas de presidiário, para que as pessoas percebam. É por isso que você não pode seguir nenhuma das mesmas ruas que seu amigo segue - as autoridades podem estar esperando por você lá. Você deve escolher um caminho completamente diferente (embora possa passar pelos mesmos cruzamentos que seu amigo).\n",
        "\n",
        "Em quanto tempo você e seu amigo podem embarcar em um trem? Em resumo, dado um grafo ponderado e não-direcionado, encontre o caminho mais curto de da origem S ao destino T e vice-versa sem usar a mesma aresta duas vezes.\n",
        "\n",
        "A entrada conterá vários casos de teste. Cada caso de teste começará com um inteiro n (2 ≤ n ≤ 100) - o número de vértices (interseções). A prisão está no vértice número 1 e a estação de trem está no vértice número n. A próxima linha conterá um inteiro m - o número de ruas. As próximas m linhas descreverão as m ruas. Cada linha conterá 3 inteiros - os dois vértices conectados pela rua e o tempo que leva para percorrer o comprimento da rua (em segundos). Nenhuma rua terá um tempo maior que 1000 ou menor que 1. Cada rua conectará dois vértices diferentes.\n",
        "\n",
        "Nenhum par de vértices será conectado diretamente por mais de uma rua. O último caso de teste será seguido por uma linha contendo zero."
      ],
      "metadata": {
        "id": "YydSNoJxA-_b"
      }
    },
    {
      "cell_type": "code",
      "execution_count": 1,
      "metadata": {
        "id": "4nlgG8dxAyPE"
      },
      "outputs": [],
      "source": [
        "import heapq\n",
        "from collections import defaultdict\n",
        "\n",
        "oo = 1e9"
      ]
    },
    {
      "cell_type": "code",
      "source": [
        "def dijkstra(s, f, g, used, dist, prev):\n",
        "    dist[s] = 0\n",
        "    queue = [(0, s)]\n",
        "    while queue:\n",
        "        (w, u) = heapq.heappop(queue)\n",
        "        if u == f:\n",
        "            break\n",
        "        if w > dist[u]:\n",
        "            continue\n",
        "        for (w_extra, v) in g[u]:\n",
        "            if used[u][v]:\n",
        "                continue\n",
        "            if w + w_extra >= dist[v]:\n",
        "                continue\n",
        "            dist[v] = w + w_extra\n",
        "            prev[v] = u\n",
        "            heapq.heappush(queue, (dist[v], v))"
      ],
      "metadata": {
        "id": "ab1cfHaUBI7X"
      },
      "execution_count": 2,
      "outputs": []
    },
    {
      "cell_type": "code",
      "source": [
        "def solve_edges(nodes, edges):\n",
        "    g = defaultdict(list)\n",
        "    used = defaultdict(lambda: defaultdict(bool))\n",
        "    dist = [oo] * nodes\n",
        "    prev = [None] * nodes\n",
        "\n",
        "    for (u, v, w) in edges:\n",
        "        u -= 1\n",
        "        v -= 1\n",
        "        g[u].append((w, v))\n",
        "        g[v].append((w, u))\n",
        "\n",
        "    dijkstra(0, nodes - 1, g, used, dist, prev)\n",
        "\n",
        "    if dist[nodes - 1] == oo:\n",
        "        return \"Back to jail\"\n",
        "\n",
        "    ans = dist[nodes - 1]\n",
        "\n",
        "    u = nodes - 1\n",
        "    while u != 0:\n",
        "        used[prev[u]][u] = True\n",
        "        for i in range(len(g[u])):\n",
        "            v = g[u][i][1]\n",
        "            if v != prev[u]:\n",
        "                continue\n",
        "            g[u][i] = (g[u][i][0] * -1, v)\n",
        "        u = prev[u]\n",
        "\n",
        "    dist = [oo] * nodes\n",
        "    prev = [None] * nodes\n",
        "    dijkstra(0, nodes - 1, g, used, dist, prev)\n",
        "\n",
        "    if dist[nodes - 1] == oo:\n",
        "        return \"Back to jail\"\n",
        "\n",
        "    ans += dist[nodes - 1]\n",
        "    return ans"
      ],
      "metadata": {
        "id": "3LuE9alKBKc7"
      },
      "execution_count": 3,
      "outputs": []
    },
    {
      "cell_type": "code",
      "source": [
        "def main():\n",
        "    with open('problema2.in', 'r') as infile:\n",
        "        while True:\n",
        "            nodes = int(infile.readline())\n",
        "            if nodes == 0:\n",
        "                break\n",
        "            edges_count = int(infile.readline())\n",
        "            edges = []\n",
        "            for _ in range(edges_count):\n",
        "                edges.append(tuple(map(int, infile.readline().split())))\n",
        "            result = solve_edges(nodes, edges)\n",
        "            print(result)"
      ],
      "metadata": {
        "id": "5eHNDvV2BMon"
      },
      "execution_count": 4,
      "outputs": []
    },
    {
      "cell_type": "code",
      "source": [
        "if __name__ == \"__main__\":\n",
        "    main()"
      ],
      "metadata": {
        "colab": {
          "base_uri": "https://localhost:8080/"
        },
        "id": "7UQ8L5DtBOdc",
        "outputId": "83a0c54c-1eb3-4b40-cc1b-1ba800d23e26"
      },
      "execution_count": 5,
      "outputs": [
        {
          "output_type": "stream",
          "name": "stdout",
          "text": [
            "Back to jail\n",
            "909\n",
            "222\n",
            "Back to jail\n",
            "1147\n",
            "22\n"
          ]
        }
      ]
    }
  ]
}